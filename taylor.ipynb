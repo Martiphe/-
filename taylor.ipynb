{
 "cells": [
  {
   "cell_type": "code",
   "execution_count": 1,
   "id": "c4967629",
   "metadata": {},
   "outputs": [
    {
     "name": "stdout",
     "output_type": "stream",
     "text": [
      "Help on built-in function cos in module math:\n",
      "\n",
      "cos(x, /)\n",
      "    Return the cosine of x (measured in radians).\n",
      "\n",
      "Help on function my_cos in module __main__:\n",
      "\n",
      "my_cos(x)\n",
      "\n",
      "0.9950041652780258\n",
      "0.9950024994048446\n",
      "<function my_cos at 0x00000181B5CBE830> <numpy.vectorize object at 0x00000181B55AEA10>\n"
     ]
    },
    {
     "data": {
      "image/png": "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\n",
      "text/plain": [
       "<Figure size 432x288 with 1 Axes>"
      ]
     },
     "metadata": {
      "needs_background": "light"
     },
     "output_type": "display_data"
    }
   ],
   "source": [
    "import math\n",
    "import matplotlib.pyplot as plt\n",
    "import numpy as np\n",
    "\n",
    "ITERATIONS = 20\n",
    "x1 =np.arange(0, 25, 0.1)\n"
    "\n",
    "\n",
    "def my_cos(x):\n",
    "\n",
    "    x_pow = 1\n",
    "    sign = 1\n",
    "    partial_sum = 1\n",
    "    for n in range(1, ITERATIONS):\n",
    "        x_pow *= x ** 2\n",
    "        if n == 1:\n",
    "            multiplier = -1/2\n",
    "        else:\n",
    "           sign *= -1\n",
    "        partial_sum += x_pow * sign/math.factorial(2*n)\n",
    "\n",
    "    return partial_sum\n",
    "\n",
    "\n",
    "help(math.cos)\n",
    "help(my_cos)\n",
    "\n",
    "print(math.cos(0.1))\n",
    "print(my_cos(0.1))\n",
    "\n",
    "vs = np.vectorize(my_cos)\n",
    "print(my_cos, vs)\n",
    "\n",
    "a = np.cos(x1)\n",
    "plt.subplot(121)\n",
    "plt.plot(x1, a, color = 'r', label = '$cos(x)$')\n",
    "\n",
    "angles = np.r_[0:25:0.01]\n",
    "plt.subplot(122)\n",
    "plt.plot(angles, vs(angles), color = 'g', label = 'Мой $cos(x)$')\n",
    "plt.show()"
   ]
  }
 ],
 "metadata": {
  "kernelspec": {
   "display_name": "Python 3 (ipykernel)",
   "language": "python",
   "name": "python3"
  },
  "language_info": {
   "codemirror_mode": {
    "name": "ipython",
    "version": 3
   },
   "file_extension": ".py",
   "mimetype": "text/x-python",
   "name": "python",
   "nbconvert_exporter": "python",
   "pygments_lexer": "ipython3",
   "version": "3.10.0"
  }
 },
 "nbformat": 4,
 "nbformat_minor": 5
}
